{
 "cells": [
  {
   "cell_type": "code",
   "execution_count": 1,
   "metadata": {
    "collapsed": true
   },
   "outputs": [],
   "source": [
    "%load_ext autoreload\n",
    "%autoreload 2"
   ]
  },
  {
   "cell_type": "code",
   "execution_count": 2,
   "outputs": [],
   "source": [
    "import argparse\n",
    "import mmcv\n",
    "import os\n",
    "import torch\n",
    "from mmcv import Config, DictAction\n",
    "from mmcv.parallel import MMDataParallel, MMDistributedDataParallel\n",
    "from mmcv.runner import get_dist_info, init_dist, load_checkpoint\n",
    "\n",
    "from mmdet3d.apis import single_gpu_test\n",
    "from mmdet3d.datasets import build_dataloader, build_dataset\n",
    "from mmdet3d.models import build_detector\n",
    "from mmdet.apis import multi_gpu_test, set_random_seed\n",
    "from mmdet.core import wrap_fp16_model\n",
    "from tools.fuse_conv_bn import fuse_module\n",
    "from torchsummary import summary\n",
    "\n",
    "from mmdet3d.apis import init_detector, inference_detector, show_result_meshlab\n"
   ],
   "metadata": {
    "collapsed": false,
    "pycharm": {
     "name": "#%%\n"
    }
   }
  },
  {
   "cell_type": "code",
   "execution_count": 3,
   "outputs": [],
   "source": [
    "cfg_file = \"../mmdetection3d/configs/3dssd/3dssd_kitti-3d-car.py\"\n",
    "cp_file = \"../mmdetection3d/checkpoints/ssd/latest.pth\""
   ],
   "metadata": {
    "collapsed": false,
    "pycharm": {
     "name": "#%%\n"
    }
   }
  },
  {
   "cell_type": "code",
   "execution_count": 4,
   "outputs": [
    {
     "name": "stderr",
     "output_type": "stream",
     "text": [
      "/home/yzy/anaconda3/envs/open-mmlab/lib/python3.7/site-packages/mmcv/cnn/bricks/conv_module.py:100: UserWarning: ConvModule has norm and bias at the same time\n",
      "  warnings.warn('ConvModule has norm and bias at the same time')\n"
     ]
    }
   ],
   "source": [
    "try:\n",
    "    del model\n",
    "except:\n",
    "    pass\n",
    "model = init_detector(cfg_file, cp_file, device='cuda:0')"
   ],
   "metadata": {
    "collapsed": false,
    "pycharm": {
     "name": "#%%\n"
    }
   }
  },
  {
   "cell_type": "code",
   "execution_count": 5,
   "outputs": [
    {
     "name": "stdout",
     "output_type": "stream",
     "text": [
      "torch.Size([1, 2, 4096, 32])\n",
      "torch.Size([1, 2, 4096, 32])\n",
      "torch.Size([1, 2, 4096, 64])\n",
      "torch.Size([1, 128, 1024, 32])\n",
      "torch.Size([1, 128, 1024, 32])\n",
      "torch.Size([1, 128, 1024, 64])\n",
      "torch.Size([1, 256, 512, 32])\n",
      "torch.Size([1, 256, 512, 32])\n",
      "torch.Size([1, 256, 512, 32])\n",
      "there\n"
     ]
    },
    {
     "name": "stderr",
     "output_type": "stream",
     "text": [
      "/home/yzy/anaconda3/envs/open-mmlab/lib/python3.7/site-packages/torch/nn/functional.py:1639: UserWarning: nn.functional.sigmoid is deprecated. Use torch.sigmoid instead.\n",
      "  warnings.warn(\"nn.functional.sigmoid is deprecated. Use torch.sigmoid instead.\")\n",
      "/home/yzy/anaconda3/envs/open-mmlab/lib/python3.7/site-packages/mmcv/utils/misc.py:304: UserWarning: \"iou_thr\" is deprecated in `nms`, please use \"iou_threshold\" instead\n",
      "  f'\"{src_arg_name}\" is deprecated in '\n"
     ]
    }
   ],
   "source": [
    "pcd = '../mmdetection3d/demo/kitti_000008.bin'\n",
    "result, data = inference_detector(model, pcd)"
   ],
   "metadata": {
    "collapsed": false,
    "pycharm": {
     "name": "#%%\n"
    }
   }
  },
  {
   "cell_type": "code",
   "execution_count": 6,
   "outputs": [
    {
     "data": {
      "text/plain": "SSD3DNet(\n  (backbone): PointNet2SAMSG(\n    (SA_modules): ModuleList(\n      (0): PointSAModuleMSG(\n        (groupers): ModuleList(\n          (0): QueryAndGroup()\n          (1): QueryAndGroup()\n          (2): QueryAndGroup()\n        )\n        (mlps): ModuleList(\n          (0): Sequential(\n            (layer0): ConvModule(\n              (conv): Conv2d(4, 16, kernel_size=(1, 1), stride=(1, 1))\n              (bn): BatchNorm2d(16, eps=0.001, momentum=0.1, affine=True, track_running_stats=True)\n              (activate): ReLU(inplace=True)\n            )\n            (layer1): ConvModule(\n              (conv): Conv2d(16, 16, kernel_size=(1, 1), stride=(1, 1))\n              (bn): BatchNorm2d(16, eps=0.001, momentum=0.1, affine=True, track_running_stats=True)\n              (activate): ReLU(inplace=True)\n            )\n            (layer2): ConvModule(\n              (conv): Conv2d(16, 32, kernel_size=(1, 1), stride=(1, 1))\n              (bn): BatchNorm2d(32, eps=0.001, momentum=0.1, affine=True, track_running_stats=True)\n              (activate): ReLU(inplace=True)\n            )\n          )\n          (1): Sequential(\n            (layer0): ConvModule(\n              (conv): Conv2d(4, 16, kernel_size=(1, 1), stride=(1, 1))\n              (bn): BatchNorm2d(16, eps=0.001, momentum=0.1, affine=True, track_running_stats=True)\n              (activate): ReLU(inplace=True)\n            )\n            (layer1): ConvModule(\n              (conv): Conv2d(16, 16, kernel_size=(1, 1), stride=(1, 1))\n              (bn): BatchNorm2d(16, eps=0.001, momentum=0.1, affine=True, track_running_stats=True)\n              (activate): ReLU(inplace=True)\n            )\n            (layer2): ConvModule(\n              (conv): Conv2d(16, 32, kernel_size=(1, 1), stride=(1, 1))\n              (bn): BatchNorm2d(32, eps=0.001, momentum=0.1, affine=True, track_running_stats=True)\n              (activate): ReLU(inplace=True)\n            )\n          )\n          (2): Sequential(\n            (layer0): ConvModule(\n              (conv): Conv2d(4, 32, kernel_size=(1, 1), stride=(1, 1))\n              (bn): BatchNorm2d(32, eps=0.001, momentum=0.1, affine=True, track_running_stats=True)\n              (activate): ReLU(inplace=True)\n            )\n            (layer1): ConvModule(\n              (conv): Conv2d(32, 32, kernel_size=(1, 1), stride=(1, 1))\n              (bn): BatchNorm2d(32, eps=0.001, momentum=0.1, affine=True, track_running_stats=True)\n              (activate): ReLU(inplace=True)\n            )\n            (layer2): ConvModule(\n              (conv): Conv2d(32, 64, kernel_size=(1, 1), stride=(1, 1))\n              (bn): BatchNorm2d(64, eps=0.001, momentum=0.1, affine=True, track_running_stats=True)\n              (activate): ReLU(inplace=True)\n            )\n          )\n        )\n        (points_sampler): Points_Sampler(\n          (samplers): ModuleList(\n            (0): DFPS_Sampler()\n          )\n        )\n      )\n      (1): PointSAModuleMSG(\n        (groupers): ModuleList(\n          (0): QueryAndGroup()\n          (1): QueryAndGroup()\n          (2): QueryAndGroup()\n        )\n        (mlps): ModuleList(\n          (0): Sequential(\n            (layer0): ConvModule(\n              (conv): Conv2d(67, 64, kernel_size=(1, 1), stride=(1, 1))\n              (bn): BatchNorm2d(64, eps=0.001, momentum=0.1, affine=True, track_running_stats=True)\n              (activate): ReLU(inplace=True)\n            )\n            (layer1): ConvModule(\n              (conv): Conv2d(64, 64, kernel_size=(1, 1), stride=(1, 1))\n              (bn): BatchNorm2d(64, eps=0.001, momentum=0.1, affine=True, track_running_stats=True)\n              (activate): ReLU(inplace=True)\n            )\n            (layer2): ConvModule(\n              (conv): Conv2d(64, 128, kernel_size=(1, 1), stride=(1, 1))\n              (bn): BatchNorm2d(128, eps=0.001, momentum=0.1, affine=True, track_running_stats=True)\n              (activate): ReLU(inplace=True)\n            )\n          )\n          (1): Sequential(\n            (layer0): ConvModule(\n              (conv): Conv2d(67, 64, kernel_size=(1, 1), stride=(1, 1))\n              (bn): BatchNorm2d(64, eps=0.001, momentum=0.1, affine=True, track_running_stats=True)\n              (activate): ReLU(inplace=True)\n            )\n            (layer1): ConvModule(\n              (conv): Conv2d(64, 64, kernel_size=(1, 1), stride=(1, 1))\n              (bn): BatchNorm2d(64, eps=0.001, momentum=0.1, affine=True, track_running_stats=True)\n              (activate): ReLU(inplace=True)\n            )\n            (layer2): ConvModule(\n              (conv): Conv2d(64, 128, kernel_size=(1, 1), stride=(1, 1))\n              (bn): BatchNorm2d(128, eps=0.001, momentum=0.1, affine=True, track_running_stats=True)\n              (activate): ReLU(inplace=True)\n            )\n          )\n          (2): Sequential(\n            (layer0): ConvModule(\n              (conv): Conv2d(67, 64, kernel_size=(1, 1), stride=(1, 1))\n              (bn): BatchNorm2d(64, eps=0.001, momentum=0.1, affine=True, track_running_stats=True)\n              (activate): ReLU(inplace=True)\n            )\n            (layer1): ConvModule(\n              (conv): Conv2d(64, 96, kernel_size=(1, 1), stride=(1, 1))\n              (bn): BatchNorm2d(96, eps=0.001, momentum=0.1, affine=True, track_running_stats=True)\n              (activate): ReLU(inplace=True)\n            )\n            (layer2): ConvModule(\n              (conv): Conv2d(96, 128, kernel_size=(1, 1), stride=(1, 1))\n              (bn): BatchNorm2d(128, eps=0.001, momentum=0.1, affine=True, track_running_stats=True)\n              (activate): ReLU(inplace=True)\n            )\n          )\n        )\n        (points_sampler): Points_Sampler(\n          (samplers): ModuleList(\n            (0): FS_Sampler()\n          )\n        )\n      )\n      (2): PointSAModuleMSG(\n        (groupers): ModuleList(\n          (0): QueryAndGroup()\n          (1): QueryAndGroup()\n          (2): QueryAndGroup()\n        )\n        (mlps): ModuleList(\n          (0): Sequential(\n            (layer0): ConvModule(\n              (conv): Conv2d(131, 128, kernel_size=(1, 1), stride=(1, 1))\n              (bn): BatchNorm2d(128, eps=0.001, momentum=0.1, affine=True, track_running_stats=True)\n              (activate): ReLU(inplace=True)\n            )\n            (layer1): ConvModule(\n              (conv): Conv2d(128, 128, kernel_size=(1, 1), stride=(1, 1))\n              (bn): BatchNorm2d(128, eps=0.001, momentum=0.1, affine=True, track_running_stats=True)\n              (activate): ReLU(inplace=True)\n            )\n            (layer2): ConvModule(\n              (conv): Conv2d(128, 256, kernel_size=(1, 1), stride=(1, 1))\n              (bn): BatchNorm2d(256, eps=0.001, momentum=0.1, affine=True, track_running_stats=True)\n              (activate): ReLU(inplace=True)\n            )\n          )\n          (1): Sequential(\n            (layer0): ConvModule(\n              (conv): Conv2d(131, 128, kernel_size=(1, 1), stride=(1, 1))\n              (bn): BatchNorm2d(128, eps=0.001, momentum=0.1, affine=True, track_running_stats=True)\n              (activate): ReLU(inplace=True)\n            )\n            (layer1): ConvModule(\n              (conv): Conv2d(128, 192, kernel_size=(1, 1), stride=(1, 1))\n              (bn): BatchNorm2d(192, eps=0.001, momentum=0.1, affine=True, track_running_stats=True)\n              (activate): ReLU(inplace=True)\n            )\n            (layer2): ConvModule(\n              (conv): Conv2d(192, 256, kernel_size=(1, 1), stride=(1, 1))\n              (bn): BatchNorm2d(256, eps=0.001, momentum=0.1, affine=True, track_running_stats=True)\n              (activate): ReLU(inplace=True)\n            )\n          )\n          (2): Sequential(\n            (layer0): ConvModule(\n              (conv): Conv2d(131, 128, kernel_size=(1, 1), stride=(1, 1))\n              (bn): BatchNorm2d(128, eps=0.001, momentum=0.1, affine=True, track_running_stats=True)\n              (activate): ReLU(inplace=True)\n            )\n            (layer1): ConvModule(\n              (conv): Conv2d(128, 256, kernel_size=(1, 1), stride=(1, 1))\n              (bn): BatchNorm2d(256, eps=0.001, momentum=0.1, affine=True, track_running_stats=True)\n              (activate): ReLU(inplace=True)\n            )\n            (layer2): ConvModule(\n              (conv): Conv2d(256, 256, kernel_size=(1, 1), stride=(1, 1))\n              (bn): BatchNorm2d(256, eps=0.001, momentum=0.1, affine=True, track_running_stats=True)\n              (activate): ReLU(inplace=True)\n            )\n          )\n        )\n        (points_sampler): Points_Sampler(\n          (samplers): ModuleList(\n            (0): FFPS_Sampler()\n            (1): DFPS_Sampler()\n          )\n        )\n      )\n    )\n    (aggregation_mlps): ModuleList(\n      (0): ConvModule(\n        (conv): Conv1d(128, 64, kernel_size=(1,), stride=(1,))\n        (bn): BatchNorm1d(64, eps=1e-05, momentum=0.1, affine=True, track_running_stats=True)\n        (activate): ReLU(inplace=True)\n      )\n      (1): ConvModule(\n        (conv): Conv1d(384, 128, kernel_size=(1,), stride=(1,))\n        (bn): BatchNorm1d(128, eps=1e-05, momentum=0.1, affine=True, track_running_stats=True)\n        (activate): ReLU(inplace=True)\n      )\n      (2): ConvModule(\n        (conv): Conv1d(768, 256, kernel_size=(1,), stride=(1,))\n        (bn): BatchNorm1d(256, eps=1e-05, momentum=0.1, affine=True, track_running_stats=True)\n        (activate): ReLU(inplace=True)\n      )\n    )\n  )\n  (bbox_head): SSD3DHead(\n    (objectness_loss): CrossEntropyLoss()\n    (center_loss): SmoothL1Loss()\n    (dir_res_loss): SmoothL1Loss()\n    (dir_class_loss): CrossEntropyLoss()\n    (size_res_loss): SmoothL1Loss()\n    (vote_module): VoteModule(\n      (vote_conv): Sequential(\n        (0): ConvModule(\n          (conv): Conv1d(256, 128, kernel_size=(1,), stride=(1,))\n          (bn): BatchNorm1d(128, eps=0.001, momentum=0.1, affine=True, track_running_stats=True)\n          (activate): ReLU(inplace=True)\n        )\n      )\n      (conv_out): Conv1d(128, 3, kernel_size=(1,), stride=(1,))\n    )\n    (vote_aggregation): PointSAModuleMSG(\n      (groupers): ModuleList(\n        (0): QueryAndGroup()\n        (1): QueryAndGroup()\n      )\n      (mlps): ModuleList(\n        (0): Sequential(\n          (layer0): ConvModule(\n            (conv): Conv2d(259, 256, kernel_size=(1, 1), stride=(1, 1))\n            (bn): BatchNorm2d(256, eps=0.001, momentum=0.1, affine=True, track_running_stats=True)\n            (activate): ReLU(inplace=True)\n          )\n          (layer1): ConvModule(\n            (conv): Conv2d(256, 256, kernel_size=(1, 1), stride=(1, 1))\n            (bn): BatchNorm2d(256, eps=0.001, momentum=0.1, affine=True, track_running_stats=True)\n            (activate): ReLU(inplace=True)\n          )\n          (layer2): ConvModule(\n            (conv): Conv2d(256, 512, kernel_size=(1, 1), stride=(1, 1))\n            (bn): BatchNorm2d(512, eps=0.001, momentum=0.1, affine=True, track_running_stats=True)\n            (activate): ReLU(inplace=True)\n          )\n        )\n        (1): Sequential(\n          (layer0): ConvModule(\n            (conv): Conv2d(259, 256, kernel_size=(1, 1), stride=(1, 1))\n            (bn): BatchNorm2d(256, eps=0.001, momentum=0.1, affine=True, track_running_stats=True)\n            (activate): ReLU(inplace=True)\n          )\n          (layer1): ConvModule(\n            (conv): Conv2d(256, 512, kernel_size=(1, 1), stride=(1, 1))\n            (bn): BatchNorm2d(512, eps=0.001, momentum=0.1, affine=True, track_running_stats=True)\n            (activate): ReLU(inplace=True)\n          )\n          (layer2): ConvModule(\n            (conv): Conv2d(512, 1024, kernel_size=(1, 1), stride=(1, 1))\n            (bn): BatchNorm2d(1024, eps=0.001, momentum=0.1, affine=True, track_running_stats=True)\n            (activate): ReLU(inplace=True)\n          )\n        )\n      )\n      (points_sampler): Points_Sampler(\n        (samplers): ModuleList(\n          (0): DFPS_Sampler()\n        )\n      )\n    )\n    (conv_pred): BaseConvBboxHead(\n      (shared_convs): Sequential(\n        (layer0): ConvModule(\n          (conv): Conv1d(1536, 512, kernel_size=(1,), stride=(1,))\n          (bn): BatchNorm1d(512, eps=0.001, momentum=0.1, affine=True, track_running_stats=True)\n          (activate): ReLU(inplace=True)\n        )\n        (layer1): ConvModule(\n          (conv): Conv1d(512, 128, kernel_size=(1,), stride=(1,))\n          (bn): BatchNorm1d(128, eps=0.001, momentum=0.1, affine=True, track_running_stats=True)\n          (activate): ReLU(inplace=True)\n        )\n      )\n      (cls_convs): Sequential(\n        (layer0): ConvModule(\n          (conv): Conv1d(128, 128, kernel_size=(1,), stride=(1,))\n          (bn): BatchNorm1d(128, eps=0.001, momentum=0.1, affine=True, track_running_stats=True)\n          (activate): ReLU(inplace=True)\n        )\n      )\n      (conv_cls): Conv1d(128, 1, kernel_size=(1,), stride=(1,))\n      (reg_convs): Sequential(\n        (layer0): ConvModule(\n          (conv): Conv1d(128, 128, kernel_size=(1,), stride=(1,))\n          (bn): BatchNorm1d(128, eps=0.001, momentum=0.1, affine=True, track_running_stats=True)\n          (activate): ReLU(inplace=True)\n        )\n      )\n      (conv_reg): Conv1d(128, 30, kernel_size=(1,), stride=(1,))\n    )\n    (corner_loss): SmoothL1Loss()\n    (vote_loss): SmoothL1Loss()\n  )\n)"
     },
     "execution_count": 6,
     "metadata": {},
     "output_type": "execute_result"
    }
   ],
   "source": [
    "model"
   ],
   "metadata": {
    "collapsed": false,
    "pycharm": {
     "name": "#%%\n"
    }
   }
  },
  {
   "cell_type": "code",
   "execution_count": 6,
   "outputs": [],
   "source": [
    "import os\n",
    "import sys\n",
    "import copy\n",
    "import math\n",
    "import numpy as np\n",
    "import torch\n",
    "import torch.nn as nn\n",
    "import torch.nn.functional as F\n",
    "\n",
    "\n",
    "def knn(x, k):\n",
    "    inner = -2*torch.matmul(x.transpose(2, 1), x)\n",
    "    xx = torch.sum(x**2, dim=1, keepdim=True)\n",
    "    pairwise_distance = -xx - inner - xx.transpose(2, 1)\n",
    "\n",
    "    idx = pairwise_distance.topk(k=k, dim=-1)[1]   # (batch_size, num_points, k)\n",
    "    return idx\n",
    "\n",
    "\n",
    "def get_graph_feature(x, k=20, idx=None):\n",
    "    batch_size = x.size(0)\n",
    "    num_points = x.size(2)\n",
    "    x = x.view(batch_size, -1, num_points)\n",
    "    if idx is None:\n",
    "        idx = knn(x, k=k)   # (batch_size, num_points, k)\n",
    "    device = torch.device('cuda')\n",
    "\n",
    "    idx_base = torch.arange(0, batch_size, device=device).view(-1, 1, 1)*num_points\n",
    "\n",
    "    idx = idx + idx_base\n",
    "\n",
    "    idx = idx.view(-1)\n",
    "\n",
    "    _, num_dims, _ = x.size()\n",
    "\n",
    "    x = x.transpose(2, 1).contiguous()   # (batch_size, num_points, num_dims)  -> (batch_size*num_points, num_dims) #   batch_size * num_points * k + range(0, batch_size*num_points)\n",
    "    feature = x.view(batch_size*num_points, -1)[idx, :]\n",
    "    feature = feature.view(batch_size, num_points, k, num_dims)\n",
    "    x = x.view(batch_size, num_points, 1, num_dims).repeat(1, 1, k, 1)\n",
    "\n",
    "    feature = torch.cat((feature-x, x), dim=3).permute(0, 3, 1, 2).contiguous()\n",
    "\n",
    "    return feature"
   ],
   "metadata": {
    "collapsed": false,
    "pycharm": {
     "name": "#%%\n"
    }
   }
  },
  {
   "cell_type": "code",
   "execution_count": 12,
   "outputs": [],
   "source": [
    "# test edge conv\n",
    "\n",
    "input = torch.randn((1, 64, 4096), device='cuda')"
   ],
   "metadata": {
    "collapsed": false,
    "pycharm": {
     "name": "#%%\n"
    }
   }
  },
  {
   "cell_type": "code",
   "execution_count": 13,
   "outputs": [],
   "source": [
    "result_1 = get_graph_feature(input)"
   ],
   "metadata": {
    "collapsed": false,
    "pycharm": {
     "name": "#%%\n"
    }
   }
  },
  {
   "cell_type": "code",
   "execution_count": 15,
   "outputs": [
    {
     "data": {
      "text/plain": "torch.Size([1, 128, 4096, 20])"
     },
     "execution_count": 15,
     "metadata": {},
     "output_type": "execute_result"
    }
   ],
   "source": [
    "result_1.shape"
   ],
   "metadata": {
    "collapsed": false,
    "pycharm": {
     "name": "#%%\n"
    }
   }
  },
  {
   "cell_type": "code",
   "execution_count": 27,
   "outputs": [],
   "source": [
    "def get_graph_feature_2(x, k=20, idx=None):\n",
    "    batch_size = x.size(0)\n",
    "    num_points = x.size(2)\n",
    "    x = x.view(batch_size, -1, num_points)\n",
    "    if idx is None:\n",
    "        idx = knn(x, k=k)   # (batch_size, num_points, k)\n",
    "    device = torch.device('cuda')\n",
    "\n",
    "    idx_base = torch.arange(0, batch_size, device=device).view(-1, 1, 1)*num_points\n",
    "\n",
    "    idx = idx + idx_base\n",
    "\n",
    "    idx = idx.view(-1)\n",
    "\n",
    "    _, num_dims, _ = x.size()\n",
    "\n",
    "    x = x.transpose(2, 1).contiguous()   # (batch_size, num_points, num_dims)  -> (batch_size*num_points, num_dims) #   batch_size * num_points * k + range(0, batch_size*num_points)\n",
    "    feature = x.view(batch_size*num_points, -1)[idx, :]\n",
    "    feature = feature.view(batch_size, num_points, k, num_dims).permute(0, 3, 1, 2)\n",
    "    x = x.transpose(2, 1).contiguous()\n",
    "    x = x.view(batch_size, num_dims, num_points, 1).repeat(1, 1, 1, k)\n",
    "    feature = torch.cat((feature-x, x), dim=1)\n",
    "\n",
    "    return feature"
   ],
   "metadata": {
    "collapsed": false,
    "pycharm": {
     "name": "#%%\n"
    }
   }
  },
  {
   "cell_type": "code",
   "execution_count": 28,
   "outputs": [],
   "source": [
    "result_2 = get_graph_feature_2(input)\n"
   ],
   "metadata": {
    "collapsed": false,
    "pycharm": {
     "name": "#%%\n"
    }
   }
  },
  {
   "cell_type": "code",
   "execution_count": 29,
   "outputs": [
    {
     "data": {
      "text/plain": "torch.Size([1, 128, 4096, 20])"
     },
     "execution_count": 29,
     "metadata": {},
     "output_type": "execute_result"
    }
   ],
   "source": [
    "result_2.shape\n"
   ],
   "metadata": {
    "collapsed": false,
    "pycharm": {
     "name": "#%%\n"
    }
   }
  },
  {
   "cell_type": "code",
   "execution_count": 30,
   "outputs": [
    {
     "data": {
      "text/plain": "tensor([[[[True, True, True,  ..., True, True, True],\n          [True, True, True,  ..., True, True, True],\n          [True, True, True,  ..., True, True, True],\n          ...,\n          [True, True, True,  ..., True, True, True],\n          [True, True, True,  ..., True, True, True],\n          [True, True, True,  ..., True, True, True]],\n\n         [[True, True, True,  ..., True, True, True],\n          [True, True, True,  ..., True, True, True],\n          [True, True, True,  ..., True, True, True],\n          ...,\n          [True, True, True,  ..., True, True, True],\n          [True, True, True,  ..., True, True, True],\n          [True, True, True,  ..., True, True, True]],\n\n         [[True, True, True,  ..., True, True, True],\n          [True, True, True,  ..., True, True, True],\n          [True, True, True,  ..., True, True, True],\n          ...,\n          [True, True, True,  ..., True, True, True],\n          [True, True, True,  ..., True, True, True],\n          [True, True, True,  ..., True, True, True]],\n\n         ...,\n\n         [[True, True, True,  ..., True, True, True],\n          [True, True, True,  ..., True, True, True],\n          [True, True, True,  ..., True, True, True],\n          ...,\n          [True, True, True,  ..., True, True, True],\n          [True, True, True,  ..., True, True, True],\n          [True, True, True,  ..., True, True, True]],\n\n         [[True, True, True,  ..., True, True, True],\n          [True, True, True,  ..., True, True, True],\n          [True, True, True,  ..., True, True, True],\n          ...,\n          [True, True, True,  ..., True, True, True],\n          [True, True, True,  ..., True, True, True],\n          [True, True, True,  ..., True, True, True]],\n\n         [[True, True, True,  ..., True, True, True],\n          [True, True, True,  ..., True, True, True],\n          [True, True, True,  ..., True, True, True],\n          ...,\n          [True, True, True,  ..., True, True, True],\n          [True, True, True,  ..., True, True, True],\n          [True, True, True,  ..., True, True, True]]]], device='cuda:0')"
     },
     "execution_count": 30,
     "metadata": {},
     "output_type": "execute_result"
    }
   ],
   "source": [
    "result_1 == result_2\n"
   ],
   "metadata": {
    "collapsed": false,
    "pycharm": {
     "name": "#%%\n"
    }
   }
  },
  {
   "cell_type": "code",
   "execution_count": null,
   "outputs": [],
   "source": [],
   "metadata": {
    "collapsed": false,
    "pycharm": {
     "name": "#%%\n"
    }
   }
  }
 ],
 "metadata": {
  "kernelspec": {
   "display_name": "Python 3",
   "language": "python",
   "name": "python3"
  },
  "language_info": {
   "codemirror_mode": {
    "name": "ipython",
    "version": 2
   },
   "file_extension": ".py",
   "mimetype": "text/x-python",
   "name": "python",
   "nbconvert_exporter": "python",
   "pygments_lexer": "ipython2",
   "version": "2.7.6"
  }
 },
 "nbformat": 4,
 "nbformat_minor": 0
}
