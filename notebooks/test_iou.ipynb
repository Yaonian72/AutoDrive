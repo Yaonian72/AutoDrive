{
 "cells": [
  {
   "cell_type": "code",
   "execution_count": 2,
   "metadata": {
    "collapsed": true
   },
   "outputs": [],
   "source": [
    "from mmdet3d.core.bbox.iou_calculators import *\n",
    "import torch"
   ]
  },
  {
   "cell_type": "code",
   "execution_count": 60,
   "outputs": [
    {
     "data": {
      "text/plain": "tensor([[0.2222, 0.2222]])"
     },
     "execution_count": 60,
     "metadata": {},
     "output_type": "execute_result"
    }
   ],
   "source": [
    "bbox1 = torch.tensor([1, 2, 3, 400, 400, 400, 1])\n",
    "bbox2 = torch.tensor([[1, 2, 3, 200, 200, 600, 0.5], [1, 2, 3, 200, 200, 600, 0.5]])\n",
    "bbox_overlaps_3d(bbox1.unsqueeze(0), bbox2, coordinate='lidar')"
   ],
   "metadata": {
    "collapsed": false,
    "pycharm": {
     "name": "#%%\n"
    }
   }
  },
  {
   "cell_type": "code",
   "execution_count": 59,
   "outputs": [
    {
     "data": {
      "text/plain": "array([0.22501061])"
     },
     "execution_count": 59,
     "metadata": {},
     "output_type": "execute_result"
    }
   ],
   "source": [
    "# method 2\n",
    "import numpy as np\n",
    "import cv2\n",
    "from shapely.geometry import Polygon\n",
    "\n",
    "# y is pointing upwards\n",
    "def boxes_3d_to_corners(boxes_3d):\n",
    "    all_corners = []\n",
    "    for box_3d in boxes_3d:\n",
    "        x3d, y3d, z3d, l, h, w, yaw = box_3d\n",
    "        R = np.array([[np.cos(yaw),  0,  np.sin(yaw)],\n",
    "                      [0,            1,  0          ],\n",
    "                      [-np.sin(yaw), 0,  np.cos(yaw)]]);\n",
    "        corners = np.array([[ l/2,  0.0,  w/2],  # front up right\n",
    "                            [ l/2,  0.0, -w/2],  # front up left\n",
    "                            [-l/2,  0.0, -w/2],  # back up left\n",
    "                            [-l/2,  0.0,  w/2],  # back up right\n",
    "                            [ l/2, -h,  w/2],  # front down right\n",
    "                            [ l/2, -h, -w/2],  # front down left\n",
    "                            [-l/2, -h, -w/2],  # back down left\n",
    "                            [-l/2, -h,  w/2]]) # back down right\n",
    "        r_corners = corners.dot(np.transpose(R))\n",
    "        cam_points_xyz = r_corners+np.array([x3d, y3d, z3d])\n",
    "        all_corners.append(cam_points_xyz)\n",
    "    return np.array(all_corners)\n",
    "\n",
    "def overlapped_boxes_3d(single_box, box_list):\n",
    "    x0_max, y0_max, z0_max = np.max(single_box, axis=0)\n",
    "    x0_min, y0_min, z0_min = np.min(single_box, axis=0)\n",
    "    overlap = np.zeros(len(box_list))\n",
    "    for i, box in enumerate(box_list):\n",
    "        x_max, y_max, z_max = np.max(box, axis=0)\n",
    "        x_min, y_min, z_min = np.min(box, axis=0)\n",
    "        if x0_max < x_min or x0_min > x_max:\n",
    "            overlap[i] = 0\n",
    "            continue\n",
    "        if y0_max < y_min or y0_min > y_max:\n",
    "            overlap[i] = 0\n",
    "            continue\n",
    "        if z0_max < z_min or z0_min > z_max:\n",
    "            overlap[i] = 0\n",
    "            continue\n",
    "        x_draw_min = min(x0_min, x_min)\n",
    "        x_draw_max = max(x0_max, x_max)\n",
    "        z_draw_min = min(z0_min, z_min)\n",
    "        z_draw_max = max(z0_max, z_max)\n",
    "        offset = np.array([x_draw_min, z_draw_min])\n",
    "        buf1 = np.zeros((int(z_draw_max-z_draw_min), int(x_draw_max-x_draw_min)),\n",
    "            dtype=np.int32)\n",
    "        buf2 = np.zeros_like(buf1)\n",
    "        cv2.fillPoly(buf1, np.int32([single_box[:4, [0,2]]-offset]), color=1)\n",
    "        cv2.fillPoly(buf2, np.int32([box[:4, [0,2]]-offset]), color=1)\n",
    "        shared_area = cv2.countNonZero(buf1*buf2)\n",
    "        area1 = cv2.countNonZero(buf1)\n",
    "        area2 = cv2.countNonZero(buf2)\n",
    "        shared_y = min(y_max, y0_max) - max(y_min, y0_min)\n",
    "        intersection = shared_y * shared_area\n",
    "        union = (y_max-y_min) * area2 + (y0_max-y0_min) * area1\n",
    "        overlap[i] = np.float32(intersection) / (union - intersection)\n",
    "    return overlap\n",
    "\n",
    "def overlapped_boxes_3d_fast_poly(single_box, box_list):\n",
    "    single_box_max_corner = np.max(single_box, axis=0)\n",
    "    single_box_min_corner = np.min(single_box, axis=0)\n",
    "    x0_max, y0_max, z0_max = single_box_max_corner\n",
    "    x0_min, y0_min, z0_min = single_box_min_corner\n",
    "    max_corner = np.max(box_list, axis=1)\n",
    "    min_corner = np.min(box_list, axis=1)\n",
    "    overlap = np.zeros(len(box_list))\n",
    "    non_overlap_mask =  np.logical_or(single_box_max_corner < min_corner,\n",
    "        single_box_min_corner > max_corner)\n",
    "    non_overlap_mask = np.any(non_overlap_mask, axis=1)\n",
    "    p1  = Polygon(single_box[:4, [0,2]])\n",
    "    area1 = p1.area\n",
    "    for i in range(len(box_list)):\n",
    "        if not non_overlap_mask[i]:\n",
    "            x_max, y_max, z_max = max_corner[i]\n",
    "            x_min, y_min, z_min = min_corner[i]\n",
    "            p2 =  Polygon(box_list[i][:4, [0,2]])\n",
    "            shared_area = p1.intersection(p2).area\n",
    "            area2 = p2.area\n",
    "            shared_y = min(y_max, y0_max) - max(y_min, y0_min)\n",
    "            intersection = shared_y * shared_area\n",
    "            union = (y_max-y_min) * area2 + (y0_max-y0_min) * area1\n",
    "            overlap[i] = np.float32(intersection) / (union - intersection)\n",
    "    return overlap\n",
    "\n",
    "bbox1_corner = boxes_3d_to_corners([bbox1])\n",
    "bbox2_corner = boxes_3d_to_corners([bbox2])\n",
    "overlapped_boxes_3d_fast_poly(bbox1_corner[0], bbox2_corner)"
   ],
   "metadata": {
    "collapsed": false,
    "pycharm": {
     "name": "#%%\n"
    }
   }
  },
  {
   "cell_type": "code",
   "execution_count": 43,
   "outputs": [
    {
     "data": {
      "text/plain": "array([[0., 0., 0., 0.],\n       [0., 1., 1., 1.],\n       [0., 1., 1., 1.],\n       [0., 1., 1., 1.]])"
     },
     "execution_count": 43,
     "metadata": {},
     "output_type": "execute_result"
    }
   ],
   "source": [
    "buf = np.zeros((4,4))\n",
    "cv2.fillPoly(buf, np.array([[[3, 3], [3, 1], [1, 1], [1, 3]]]), color=1)"
   ],
   "metadata": {
    "collapsed": false,
    "pycharm": {
     "name": "#%%\n"
    }
   }
  },
  {
   "cell_type": "code",
   "execution_count": null,
   "outputs": [],
   "source": [],
   "metadata": {
    "collapsed": false,
    "pycharm": {
     "name": "#%%\n"
    }
   }
  }
 ],
 "metadata": {
  "kernelspec": {
   "display_name": "Python 3",
   "language": "python",
   "name": "python3"
  },
  "language_info": {
   "codemirror_mode": {
    "name": "ipython",
    "version": 2
   },
   "file_extension": ".py",
   "mimetype": "text/x-python",
   "name": "python",
   "nbconvert_exporter": "python",
   "pygments_lexer": "ipython2",
   "version": "2.7.6"
  }
 },
 "nbformat": 4,
 "nbformat_minor": 0
}